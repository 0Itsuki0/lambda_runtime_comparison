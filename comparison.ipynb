{
 "cells": [
  {
   "cell_type": "code",
   "execution_count": 1,
   "metadata": {},
   "outputs": [],
   "source": [
    "import boto3\n",
    "from datetime import datetime, timedelta\n",
    "\n",
    "client = boto3.client('xray')"
   ]
  },
  {
   "cell_type": "code",
   "execution_count": 2,
   "metadata": {},
   "outputs": [],
   "source": [
    "# Function names\n",
    "LAMBDA_LLRT = \"LambdaColdstartStack-LambdaColdStartLlrt496D79BC-0YKYMNczUDV3\"\n",
    "LAMBDA_RUST = \"LambdaColdstartStack-LambdaColdStartRustCB5A94EE-ILs7bF4xgdRP\"\n",
    "LAMBDA_NODEJS = \"LambdaColdstartStack-LambdaColdStartPython1AA49A8F-WX0q25mQnFqU\"\n",
    "LAMBDA_PYTHON = \"LambdaColdstartStack-LambdaColdStartTypescriptB243-9Y1lGunA3vAe\""
   ]
  },
  {
   "cell_type": "code",
   "execution_count": 3,
   "metadata": {},
   "outputs": [],
   "source": [
    "# Function url\n",
    "LAMBDA_LLRT_URL = \"https://2uydoev4lf6htqoi2f3waou6re0tejaw.lambda-url.ap-northeast-1.on.aws/\"\n",
    "LAMBDA_RUST_URL = \"https://7rq7ulqjc67ucb74mqc3t7i2zu0hsrjo.lambda-url.ap-northeast-1.on.aws/\"\n",
    "LAMBDA_NODEJS_URL = \"https://ajn2p4pppjdm5d7ijh666gijcm0zofoy.lambda-url.ap-northeast-1.on.aws/\"\n",
    "LAMBDA_PYTHON_URL = \"https://zhusyi3wldjhtn6sulhtspafwi0jehss.lambda-url.ap-northeast-1.on.aws/\""
   ]
  },
  {
   "cell_type": "markdown",
   "metadata": {},
   "source": [
    "### 50 requests per url"
   ]
  },
  {
   "cell_type": "code",
   "execution_count": null,
   "metadata": {},
   "outputs": [],
   "source": [
    "import requests\n",
    "urls = [LAMBDA_LLRT_URL, LAMBDA_RUST_URL, LAMBDA_NODEJS_URL, LAMBDA_PYTHON_URL]\n",
    "for url in urls:  \n",
    "    print(f\"processing url: {url}\")\n",
    "    for x in range(0, 50):\n",
    "        requests.get(url, verify=False)\n"
   ]
  },
  {
   "cell_type": "markdown",
   "metadata": {},
   "source": [
    "### get trace summaries"
   ]
  },
  {
   "cell_type": "code",
   "execution_count": 7,
   "metadata": {},
   "outputs": [],
   "source": [
    "def get_trace_summaries(name: str) -> list[object]:   \n",
    "    paginator = client.get_paginator('get_trace_summaries')\n",
    "    response_iterator = paginator.paginate(\n",
    "        # StartTime=(datetime.now() - timedelta(hours=3)).timestamp(),\n",
    "        # EndTime=datetime.now().timestamp(),\n",
    "        StartTime=datetime(2024, 4, 23, 12).timestamp(),\n",
    "        EndTime=datetime(2024, 4, 23, 18).timestamp(),\n",
    "        TimeRangeType='Service',\n",
    "        Sampling=False,\n",
    "        FilterExpression=f'service(id(name:\"{name}\"))'\n",
    "    )\n",
    "    result = response_iterator.build_full_result()\n",
    "    trace_summary = result['TraceSummaries']\n",
    "    return trace_summary\n"
   ]
  },
  {
   "cell_type": "code",
   "execution_count": 8,
   "metadata": {},
   "outputs": [],
   "source": [
    "llrt_summaries = get_trace_summaries(LAMBDA_LLRT)\n",
    "rust_summaries = get_trace_summaries(LAMBDA_RUST)\n",
    "nodejs_summaries = get_trace_summaries(LAMBDA_NODEJS)\n",
    "python_summaries = get_trace_summaries(LAMBDA_PYTHON)"
   ]
  },
  {
   "cell_type": "markdown",
   "metadata": {},
   "source": [
    "### Duration and response average time\n",
    "\n",
    "Duration: The length of time in seconds between the start time of the root segment and the end time of the last segment that completed.\n",
    "\n",
    "Response: The length of time in seconds between the start and end times of the root segment. If the service performs work asynchronously, the response time measures the time before the response is sent to the user, while the duration measures the amount of time before the last traced activity completes.\n"
   ]
  },
  {
   "cell_type": "code",
   "execution_count": 9,
   "metadata": {},
   "outputs": [],
   "source": [
    "def Average(lst: list[float]): \n",
    "    return sum(lst) / len(lst) "
   ]
  },
  {
   "cell_type": "code",
   "execution_count": 10,
   "metadata": {},
   "outputs": [
    {
     "name": "stdout",
     "output_type": "stream",
     "text": [
      "llrt_duration_average: 0.04327480916030535\n",
      "llrt_response_average: 0.03219847328244275\n"
     ]
    }
   ],
   "source": [
    "llrt_duration_average = Average([summary['Duration'] for summary in llrt_summaries])\n",
    "llrt_response_average = Average([summary['ResponseTime'] for summary in llrt_summaries])\n",
    "print(f\"llrt_duration_average: {llrt_duration_average}\")\n",
    "print(f\"llrt_response_average: {llrt_response_average}\")"
   ]
  },
  {
   "cell_type": "code",
   "execution_count": 11,
   "metadata": {},
   "outputs": [
    {
     "name": "stdout",
     "output_type": "stream",
     "text": [
      "rust_duration_average: 0.032391752577319584\n",
      "rust_response_average: 0.031711340206185566\n"
     ]
    }
   ],
   "source": [
    "rust_duration_average = Average([summary['Duration'] for summary in rust_summaries])\n",
    "rust_response_average = Average([summary['ResponseTime'] for summary in rust_summaries])\n",
    "print(f\"rust_duration_average: {rust_duration_average}\")\n",
    "print(f\"rust_response_average: {rust_response_average}\")"
   ]
  },
  {
   "cell_type": "code",
   "execution_count": 12,
   "metadata": {},
   "outputs": [
    {
     "name": "stdout",
     "output_type": "stream",
     "text": [
      "node_duration_average: 0.07464044943820225\n",
      "node_response_average: 0.06282022471910112\n"
     ]
    }
   ],
   "source": [
    "node_duration_average = Average([summary['Duration'] for summary in nodejs_summaries])\n",
    "node_response_average = Average([summary['ResponseTime'] for summary in nodejs_summaries])\n",
    "print(f\"node_duration_average: {node_duration_average}\")\n",
    "print(f\"node_response_average: {node_response_average}\")"
   ]
  },
  {
   "cell_type": "code",
   "execution_count": 13,
   "metadata": {},
   "outputs": [
    {
     "name": "stdout",
     "output_type": "stream",
     "text": [
      "python_duration_average: 0.08145263157894737\n",
      "python_response_average: 0.06903157894736842\n"
     ]
    }
   ],
   "source": [
    "python_duration_average = Average([summary['Duration'] for summary in python_summaries])\n",
    "python_response_average = Average([summary['ResponseTime'] for summary in python_summaries])\n",
    "print(f\"python_duration_average: {python_duration_average}\")\n",
    "print(f\"python_response_average: {python_response_average}\")"
   ]
  },
  {
   "cell_type": "markdown",
   "metadata": {},
   "source": [
    "### Time Breakdown\n",
    "\n",
    "- initialization time: Cold start time\n",
    "- invocation time\n",
    "- overhead time"
   ]
  },
  {
   "cell_type": "code",
   "execution_count": 15,
   "metadata": {},
   "outputs": [],
   "source": [
    "import json\n",
    "\n",
    "def get_time_breakdown(ids: list[str]) -> object:   \n",
    "    initialization_time_total = 0\n",
    "    initialization_count = 0\n",
    "    invocation_time_total = 0\n",
    "    invocation_count = 0\n",
    "\n",
    "    overhead_time_total = 0\n",
    "    overhead_count = 0\n",
    "\n",
    "    for id in ids:\n",
    "        response = client.batch_get_traces(\n",
    "            TraceIds=[\n",
    "                id\n",
    "            ]\n",
    "        )\n",
    "        segments = response['Traces'][0]['Segments']\n",
    "        for segment in segments: \n",
    "            document = segment['Document']\n",
    "            json_doc = json.loads(document)\n",
    "            if \"subsegments\" in json_doc:\n",
    "                sub_segments = json_doc['subsegments']\n",
    "                for sub_segment in sub_segments:\n",
    "                    start = sub_segment['start_time']\n",
    "                    end = sub_segment['end_time']\n",
    "                    dur = end - start\n",
    "                    if (sub_segment['name'] == \"Initialization\"):\n",
    "                        initialization_count = initialization_count + 1\n",
    "                        initialization_time_total = initialization_time_total + dur\n",
    "                    elif (sub_segment['name'] == \"Overhead\"):\n",
    "                        overhead_count = overhead_count + 1\n",
    "                        overhead_time_total = overhead_time_total + dur\n",
    "                    elif (sub_segment['name'] == \"Invocation\"):\n",
    "                        invocation_count = invocation_count + 1\n",
    "                        invocation_time_total = invocation_time_total + dur\n",
    "                    \n",
    "    return {\n",
    "        \"initialization_time_total\": initialization_time_total,\n",
    "        \"initialization_count\": initialization_count,\n",
    "        \"invocation_time_total\": invocation_time_total,\n",
    "        \"invocation_count\": invocation_count,\n",
    "        \"overhead_time_total\": overhead_time_total,\n",
    "        \"overhead_count\": overhead_count\n",
    "    }\n"
   ]
  },
  {
   "cell_type": "code",
   "execution_count": 16,
   "metadata": {},
   "outputs": [
    {
     "name": "stdout",
     "output_type": "stream",
     "text": [
      "llrt_time_breakdown\n"
     ]
    },
    {
     "data": {
      "text/plain": [
       "{'initialization_time_total': 0.47177958488464355,\n",
       " 'initialization_count': 5,\n",
       " 'invocation_time_total': 1.669888973236084,\n",
       " 'invocation_count': 131,\n",
       " 'overhead_time_total': 0.24699139595031738,\n",
       " 'overhead_count': 131}"
      ]
     },
     "execution_count": 16,
     "metadata": {},
     "output_type": "execute_result"
    }
   ],
   "source": [
    "llrt_ids = [summary['Id'] for summary in llrt_summaries]\n",
    "llrt_time_breakdown = get_time_breakdown(llrt_ids)\n",
    "print(\"llrt_time_breakdown\")\n",
    "llrt_time_breakdown"
   ]
  },
  {
   "cell_type": "code",
   "execution_count": 18,
   "metadata": {},
   "outputs": [
    {
     "name": "stdout",
     "output_type": "stream",
     "text": [
      "llrt_initialization_average: 0.09435591697692872\n",
      "llrt_invocation_average: 0.012747244070504458\n",
      "llrt_overhead_average: 0.0018854305034375373\n"
     ]
    }
   ],
   "source": [
    "llrt_initialization_average = llrt_time_breakdown['initialization_time_total'] / llrt_time_breakdown['initialization_count']\n",
    "llrt_invocation_average = llrt_time_breakdown['invocation_time_total'] / llrt_time_breakdown['invocation_count']\n",
    "llrt_overhead_average = llrt_time_breakdown['overhead_time_total'] / llrt_time_breakdown['overhead_count']\n",
    "print(f\"llrt_initialization_average: {llrt_initialization_average}\")\n",
    "print(f\"llrt_invocation_average: {llrt_invocation_average}\")\n",
    "print(f\"llrt_overhead_average: {llrt_overhead_average}\")"
   ]
  },
  {
   "cell_type": "code",
   "execution_count": 19,
   "metadata": {},
   "outputs": [
    {
     "name": "stdout",
     "output_type": "stream",
     "text": [
      "rust_time_breakdown\n"
     ]
    },
    {
     "data": {
      "text/plain": [
       "{'initialization_time_total': 0.24192500114440918,\n",
       " 'initialization_count': 3,\n",
       " 'invocation_time_total': 1.2693450450897217,\n",
       " 'invocation_count': 97,\n",
       " 'overhead_time_total': 0.08696269989013672,\n",
       " 'overhead_count': 97}"
      ]
     },
     "execution_count": 19,
     "metadata": {},
     "output_type": "execute_result"
    }
   ],
   "source": [
    "rust_ids = [summary['Id'] for summary in rust_summaries]\n",
    "rust_time_breakdown = get_time_breakdown(rust_ids)\n",
    "print(\"rust_time_breakdown\")\n",
    "rust_time_breakdown"
   ]
  },
  {
   "cell_type": "code",
   "execution_count": 20,
   "metadata": {},
   "outputs": [
    {
     "name": "stdout",
     "output_type": "stream",
     "text": [
      "rust_initialization_average: 0.0806416670481364\n",
      "rust_invocation_average: 0.013086031392677543\n",
      "rust_overhead_average: 0.00089652267927976\n"
     ]
    }
   ],
   "source": [
    "rust_initialization_average = rust_time_breakdown['initialization_time_total'] / rust_time_breakdown['initialization_count']\n",
    "rust_invocation_average = rust_time_breakdown['invocation_time_total'] / rust_time_breakdown['invocation_count']\n",
    "rust_overhead_average = rust_time_breakdown['overhead_time_total'] / rust_time_breakdown['overhead_count']\n",
    "print(f\"rust_initialization_average: {rust_initialization_average}\")\n",
    "print(f\"rust_invocation_average: {rust_invocation_average}\")\n",
    "print(f\"rust_overhead_average: {rust_overhead_average}\")"
   ]
  },
  {
   "cell_type": "code",
   "execution_count": 21,
   "metadata": {},
   "outputs": [
    {
     "name": "stdout",
     "output_type": "stream",
     "text": [
      "node_time_breakdown\n"
     ]
    },
    {
     "data": {
      "text/plain": [
       "{'initialization_time_total': 1.358640193939209,\n",
       " 'initialization_count': 3,\n",
       " 'invocation_time_total': 3.1893770694732666,\n",
       " 'invocation_count': 89,\n",
       " 'overhead_time_total': 0.6624557971954346,\n",
       " 'overhead_count': 89}"
      ]
     },
     "execution_count": 21,
     "metadata": {},
     "output_type": "execute_result"
    }
   ],
   "source": [
    "node_ids = [summary['Id'] for summary in nodejs_summaries]\n",
    "node_time_breakdown = get_time_breakdown(node_ids)\n",
    "print(\"node_time_breakdown\")\n",
    "node_time_breakdown"
   ]
  },
  {
   "cell_type": "code",
   "execution_count": 23,
   "metadata": {},
   "outputs": [
    {
     "name": "stdout",
     "output_type": "stream",
     "text": [
      "node_initialization_average: 0.452880064646403\n",
      "node_invocation_average: 0.03583569740981198\n",
      "node_overhead_average: 0.007443323563993647\n"
     ]
    }
   ],
   "source": [
    "node_initialization_average = node_time_breakdown['initialization_time_total'] / node_time_breakdown['initialization_count']\n",
    "node_invocation_average = node_time_breakdown['invocation_time_total'] / node_time_breakdown['invocation_count']\n",
    "node_overhead_average = node_time_breakdown['overhead_time_total'] / node_time_breakdown['overhead_count']\n",
    "print(f\"node_initialization_average: {node_initialization_average}\")\n",
    "print(f\"node_invocation_average: {node_invocation_average}\")\n",
    "print(f\"node_overhead_average: {node_overhead_average}\")"
   ]
  },
  {
   "cell_type": "code",
   "execution_count": 24,
   "metadata": {},
   "outputs": [
    {
     "name": "stdout",
     "output_type": "stream",
     "text": [
      "python_time_breakdown\n"
     ]
    },
    {
     "data": {
      "text/plain": [
       "{'initialization_time_total': 0.8679437637329102,\n",
       " 'initialization_count': 3,\n",
       " 'invocation_time_total': 4.251104831695557,\n",
       " 'invocation_count': 95,\n",
       " 'overhead_time_total': 0.816422700881958,\n",
       " 'overhead_count': 95}"
      ]
     },
     "execution_count": 24,
     "metadata": {},
     "output_type": "execute_result"
    }
   ],
   "source": [
    "python_ids = [summary['Id'] for summary in python_summaries]\n",
    "python_time_breakdown = get_time_breakdown(python_ids)\n",
    "print(\"python_time_breakdown\")\n",
    "python_time_breakdown"
   ]
  },
  {
   "cell_type": "code",
   "execution_count": 25,
   "metadata": {},
   "outputs": [
    {
     "name": "stdout",
     "output_type": "stream",
     "text": [
      "python_initialization_average: 0.28931458791097003\n",
      "python_invocation_average: 0.03583569740981198\n",
      "python_overhead_average: 0.008593923167178505\n"
     ]
    }
   ],
   "source": [
    "python_initialization_average = python_time_breakdown['initialization_time_total'] / python_time_breakdown['initialization_count']\n",
    "python_invocation_average = python_time_breakdown['invocation_time_total'] / python_time_breakdown['invocation_count']\n",
    "python_overhead_average = python_time_breakdown['overhead_time_total'] / python_time_breakdown['overhead_count']\n",
    "print(f\"python_initialization_average: {python_initialization_average}\")\n",
    "print(f\"python_invocation_average: {node_invocation_average}\")\n",
    "print(f\"python_overhead_average: {python_overhead_average}\")"
   ]
  },
  {
   "cell_type": "markdown",
   "metadata": {},
   "source": [
    "### Comparison by Plot"
   ]
  },
  {
   "cell_type": "code",
   "execution_count": 26,
   "metadata": {},
   "outputs": [],
   "source": [
    "import matplotlib.pyplot as plt\n",
    "import numpy as np\n",
    "plt.rcParams.update({'font.size': 8})\n"
   ]
  },
  {
   "cell_type": "code",
   "execution_count": 27,
   "metadata": {},
   "outputs": [],
   "source": [
    "# function to add value labels\n",
    "def addlabels(x,y):\n",
    "    for i in range(len(x)):\n",
    "        plt.text(i, y[i], \"{:.2f}ms\".format(y[i]), ha = 'center')"
   ]
  },
  {
   "cell_type": "markdown",
   "metadata": {},
   "source": [
    "#### Duration"
   ]
  },
  {
   "cell_type": "code",
   "execution_count": 28,
   "metadata": {},
   "outputs": [
    {
     "data": {
      "image/png": "[encoded data removed]",
      "text/plain": [
       "<Figure size 400x300 with 1 Axes>"
      ]
     },
     "metadata": {},
     "output_type": "display_data"
    }
   ],
   "source": [
    "# duration comparison\n",
    "x = np.array([\"llrt\", \"rust\", \"nodejs\", \"python\"])\n",
    "y = np.array([llrt_duration_average, rust_duration_average, node_duration_average, python_duration_average])*1000\n",
    "\n",
    "plt.figure(figsize=(4,3))\n",
    "addlabels(x, y)\n",
    "plt.title(\"Duration\")\n",
    "plt.xlabel(\"Runtime\")\n",
    "plt.ylabel(\"Duration(ms)\")\n",
    "plt.bar(x,y)\n",
    "plt.show()\n"
   ]
  },
  {
   "cell_type": "markdown",
   "metadata": {},
   "source": [
    "#### Response Time"
   ]
  },
  {
   "cell_type": "code",
   "execution_count": 29,
   "metadata": {},
   "outputs": [
    {
     "data": {
      "image/png": "[encoded data removed]",
      "text/plain": [
       "<Figure size 400x300 with 1 Axes>"
      ]
     },
     "metadata": {},
     "output_type": "display_data"
    }
   ],
   "source": [
    "# Response comparison\n",
    "x = np.array([\"llrt\", \"rust\", \"nodejs\", \"python\"])\n",
    "y = np.array([llrt_response_average, rust_response_average, node_response_average, python_response_average])*1000\n",
    "\n",
    "plt.figure(figsize=(4,3))\n",
    "addlabels(x, y)\n",
    "plt.title(\"Response\")\n",
    "plt.xlabel(\"Runtime\")\n",
    "plt.ylabel(\"Response(ms)\")\n",
    "plt.bar(x,y)\n",
    "plt.show()"
   ]
  },
  {
   "cell_type": "markdown",
   "metadata": {},
   "source": [
    "#### Initialization Time"
   ]
  },
  {
   "cell_type": "code",
   "execution_count": 30,
   "metadata": {},
   "outputs": [
    {
     "data": {
      "image/png": "[encoded data removed]",
      "text/plain": [
       "<Figure size 400x300 with 1 Axes>"
      ]
     },
     "metadata": {},
     "output_type": "display_data"
    }
   ],
   "source": [
    "# initialization comparison\n",
    "x = np.array([\"llrt\", \"rust\", \"nodejs\", \"python\"])\n",
    "y = np.array([llrt_initialization_average, rust_initialization_average, node_initialization_average, python_initialization_average])*1000\n",
    "\n",
    "plt.figure(figsize=(4,3))\n",
    "addlabels(x, y)\n",
    "plt.title(\"Initialization\")\n",
    "plt.xlabel(\"Runtime\")\n",
    "plt.ylabel(\"Initialization(ms)\")\n",
    "plt.bar(x,y)\n",
    "plt.show()"
   ]
  },
  {
   "cell_type": "markdown",
   "metadata": {},
   "source": [
    "#### Invocation time"
   ]
  },
  {
   "cell_type": "code",
   "execution_count": 31,
   "metadata": {},
   "outputs": [
    {
     "data": {
      "image/png": "[encoded data removed]",
      "text/plain": [
       "<Figure size 400x300 with 1 Axes>"
      ]
     },
     "metadata": {},
     "output_type": "display_data"
    }
   ],
   "source": [
    "# invocation comparison\n",
    "x = np.array([\"llrt\", \"rust\", \"nodejs\", \"python\"])\n",
    "y = np.array([llrt_invocation_average, rust_invocation_average, node_invocation_average, python_invocation_average])*1000\n",
    "\n",
    "plt.figure(figsize=(4,3))\n",
    "addlabels(x, y)\n",
    "plt.title(\"invocation\")\n",
    "plt.xlabel(\"Runtime\")\n",
    "plt.ylabel(\"invocation(ms)\")\n",
    "plt.bar(x,y)\n",
    "plt.show()"
   ]
  },
  {
   "cell_type": "markdown",
   "metadata": {},
   "source": [
    "#### Overhead time"
   ]
  },
  {
   "cell_type": "code",
   "execution_count": 32,
   "metadata": {},
   "outputs": [
    {
     "data": {
      "image/png": "[encoded data removed]",
      "text/plain": [
       "<Figure size 400x300 with 1 Axes>"
      ]
     },
     "metadata": {},
     "output_type": "display_data"
    }
   ],
   "source": [
    "# overhead comparison\n",
    "x = np.array([\"llrt\", \"rust\", \"nodejs\", \"python\"])\n",
    "y = np.array([llrt_overhead_average, rust_overhead_average, node_overhead_average, python_overhead_average])*1000\n",
    "\n",
    "plt.figure(figsize=(4,3))\n",
    "addlabels(x, y)\n",
    "plt.title(\"overhead\")\n",
    "plt.xlabel(\"Runtime\")\n",
    "plt.ylabel(\"overhead(ms)\")\n",
    "plt.bar(x,y)\n",
    "plt.show()"
   ]
  }
 ],
 "metadata": {
  "kernelspec": {
   "display_name": "Python 3",
   "language": "python",
   "name": "python3"
  },
  "language_info": {
   "codemirror_mode": {
    "name": "ipython",
    "version": 3
   },
   "file_extension": ".py",
   "mimetype": "text/x-python",
   "name": "python",
   "nbconvert_exporter": "python",
   "pygments_lexer": "ipython3",
   "version": "3.12.2"
  }
 },
 "nbformat": 4,
 "nbformat_minor": 2
}
